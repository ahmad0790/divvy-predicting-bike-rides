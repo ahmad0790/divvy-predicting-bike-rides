{
 "cells": [
  {
   "cell_type": "code",
   "execution_count": 128,
   "metadata": {},
   "outputs": [],
   "source": [
    "import pandas as pd\n",
    "import numpy as np\n",
    "import matplotlib.pyplot as plt\n",
    "from datetime import datetime, timedelta\n",
    "import glob\n",
    "import itertools\n",
    "import sklearn\n",
    "from sklearn.model_selection import train_test_split\n",
    "import datetime as dt\n",
    "from sklearn.linear_model import LinearRegression, Ridge, LogisticRegression\n",
    "from sklearn import metrics\n",
    "from sklearn import preprocessing\n",
    "from sklearn.ensemble import RandomForestRegressor\n",
    "import decimal"
   ]
  },
  {
   "cell_type": "code",
   "execution_count": 129,
   "metadata": {},
   "outputs": [],
   "source": [
    "data_with_time_features_final = pd.read_csv('divvy_agg_features.csv')"
   ]
  },
  {
   "cell_type": "code",
   "execution_count": 130,
   "metadata": {},
   "outputs": [],
   "source": [
    "data_with_time_features_final['date_numeric'] = pd.to_datetime(data_with_time_features_final['date']).dt.strftime(\"%s\")"
   ]
  },
  {
   "cell_type": "code",
   "execution_count": 131,
   "metadata": {},
   "outputs": [
    {
     "data": {
      "text/html": [
       "<div>\n",
       "<style scoped>\n",
       "    .dataframe tbody tr th:only-of-type {\n",
       "        vertical-align: middle;\n",
       "    }\n",
       "\n",
       "    .dataframe tbody tr th {\n",
       "        vertical-align: top;\n",
       "    }\n",
       "\n",
       "    .dataframe thead th {\n",
       "        text-align: right;\n",
       "    }\n",
       "</style>\n",
       "<table border=\"1\" class=\"dataframe\">\n",
       "  <thead>\n",
       "    <tr style=\"text-align: right;\">\n",
       "      <th></th>\n",
       "      <th>station_id</th>\n",
       "      <th>date</th>\n",
       "      <th>hour</th>\n",
       "      <th>trips_departed</th>\n",
       "      <th>trips_arrived</th>\n",
       "      <th>Air Temperature</th>\n",
       "      <th>Humidity</th>\n",
       "      <th>Rain Intensity</th>\n",
       "      <th>Wind Speed</th>\n",
       "      <th>Interval Rain</th>\n",
       "      <th>...</th>\n",
       "      <th>arrived_ema_n</th>\n",
       "      <th>arrived_last_hour</th>\n",
       "      <th>arrived_last_hour_yesterday</th>\n",
       "      <th>net_bike_change</th>\n",
       "      <th>bike_change_ema_n</th>\n",
       "      <th>bike_change_last_hour</th>\n",
       "      <th>departures_over_capacity</th>\n",
       "      <th>arrivals_over_capacity</th>\n",
       "      <th>bike_change_over_capacity</th>\n",
       "      <th>date_numeric</th>\n",
       "    </tr>\n",
       "  </thead>\n",
       "  <tbody>\n",
       "    <tr>\n",
       "      <th>0</th>\n",
       "      <td>2</td>\n",
       "      <td>2016-01-03</td>\n",
       "      <td>0</td>\n",
       "      <td>0.0</td>\n",
       "      <td>0.0</td>\n",
       "      <td>0.000000</td>\n",
       "      <td>0.000000</td>\n",
       "      <td>0.0</td>\n",
       "      <td>0.000000</td>\n",
       "      <td>0.0</td>\n",
       "      <td>...</td>\n",
       "      <td>0.0</td>\n",
       "      <td>0.0</td>\n",
       "      <td>0.0</td>\n",
       "      <td>0.0</td>\n",
       "      <td>-0.008789</td>\n",
       "      <td>0.0</td>\n",
       "      <td>0.0</td>\n",
       "      <td>0.0</td>\n",
       "      <td>0.0</td>\n",
       "      <td>1451800800</td>\n",
       "    </tr>\n",
       "    <tr>\n",
       "      <th>1</th>\n",
       "      <td>2</td>\n",
       "      <td>2016-01-03</td>\n",
       "      <td>1</td>\n",
       "      <td>0.0</td>\n",
       "      <td>0.0</td>\n",
       "      <td>-2.456667</td>\n",
       "      <td>69.333333</td>\n",
       "      <td>0.0</td>\n",
       "      <td>3.900000</td>\n",
       "      <td>0.0</td>\n",
       "      <td>...</td>\n",
       "      <td>0.0</td>\n",
       "      <td>0.0</td>\n",
       "      <td>0.0</td>\n",
       "      <td>0.0</td>\n",
       "      <td>-0.004395</td>\n",
       "      <td>0.0</td>\n",
       "      <td>0.0</td>\n",
       "      <td>0.0</td>\n",
       "      <td>0.0</td>\n",
       "      <td>1451800800</td>\n",
       "    </tr>\n",
       "    <tr>\n",
       "      <th>2</th>\n",
       "      <td>2</td>\n",
       "      <td>2016-01-03</td>\n",
       "      <td>2</td>\n",
       "      <td>0.0</td>\n",
       "      <td>0.0</td>\n",
       "      <td>-2.820000</td>\n",
       "      <td>70.666667</td>\n",
       "      <td>0.0</td>\n",
       "      <td>2.533333</td>\n",
       "      <td>0.0</td>\n",
       "      <td>...</td>\n",
       "      <td>0.0</td>\n",
       "      <td>0.0</td>\n",
       "      <td>0.0</td>\n",
       "      <td>0.0</td>\n",
       "      <td>-0.002197</td>\n",
       "      <td>0.0</td>\n",
       "      <td>0.0</td>\n",
       "      <td>0.0</td>\n",
       "      <td>0.0</td>\n",
       "      <td>1451800800</td>\n",
       "    </tr>\n",
       "    <tr>\n",
       "      <th>3</th>\n",
       "      <td>2</td>\n",
       "      <td>2016-01-03</td>\n",
       "      <td>3</td>\n",
       "      <td>0.0</td>\n",
       "      <td>0.0</td>\n",
       "      <td>-3.060000</td>\n",
       "      <td>70.000000</td>\n",
       "      <td>0.0</td>\n",
       "      <td>2.633333</td>\n",
       "      <td>0.0</td>\n",
       "      <td>...</td>\n",
       "      <td>0.0</td>\n",
       "      <td>0.0</td>\n",
       "      <td>0.0</td>\n",
       "      <td>0.0</td>\n",
       "      <td>-0.001099</td>\n",
       "      <td>0.0</td>\n",
       "      <td>0.0</td>\n",
       "      <td>0.0</td>\n",
       "      <td>0.0</td>\n",
       "      <td>1451800800</td>\n",
       "    </tr>\n",
       "    <tr>\n",
       "      <th>4</th>\n",
       "      <td>2</td>\n",
       "      <td>2016-01-03</td>\n",
       "      <td>4</td>\n",
       "      <td>0.0</td>\n",
       "      <td>0.0</td>\n",
       "      <td>-3.053333</td>\n",
       "      <td>68.333333</td>\n",
       "      <td>0.0</td>\n",
       "      <td>3.533333</td>\n",
       "      <td>0.0</td>\n",
       "      <td>...</td>\n",
       "      <td>0.0</td>\n",
       "      <td>0.0</td>\n",
       "      <td>0.0</td>\n",
       "      <td>0.0</td>\n",
       "      <td>-0.000549</td>\n",
       "      <td>0.0</td>\n",
       "      <td>0.0</td>\n",
       "      <td>0.0</td>\n",
       "      <td>0.0</td>\n",
       "      <td>1451800800</td>\n",
       "    </tr>\n",
       "  </tbody>\n",
       "</table>\n",
       "<p>5 rows × 39 columns</p>\n",
       "</div>"
      ],
      "text/plain": [
       "   station_id        date  hour  trips_departed  trips_arrived  \\\n",
       "0           2  2016-01-03     0             0.0            0.0   \n",
       "1           2  2016-01-03     1             0.0            0.0   \n",
       "2           2  2016-01-03     2             0.0            0.0   \n",
       "3           2  2016-01-03     3             0.0            0.0   \n",
       "4           2  2016-01-03     4             0.0            0.0   \n",
       "\n",
       "   Air Temperature   Humidity  Rain Intensity  Wind Speed  Interval Rain  \\\n",
       "0         0.000000   0.000000             0.0    0.000000            0.0   \n",
       "1        -2.456667  69.333333             0.0    3.900000            0.0   \n",
       "2        -2.820000  70.666667             0.0    2.533333            0.0   \n",
       "3        -3.060000  70.000000             0.0    2.633333            0.0   \n",
       "4        -3.053333  68.333333             0.0    3.533333            0.0   \n",
       "\n",
       "       ...       arrived_ema_n  arrived_last_hour  \\\n",
       "0      ...                 0.0                0.0   \n",
       "1      ...                 0.0                0.0   \n",
       "2      ...                 0.0                0.0   \n",
       "3      ...                 0.0                0.0   \n",
       "4      ...                 0.0                0.0   \n",
       "\n",
       "   arrived_last_hour_yesterday  net_bike_change  bike_change_ema_n  \\\n",
       "0                          0.0              0.0          -0.008789   \n",
       "1                          0.0              0.0          -0.004395   \n",
       "2                          0.0              0.0          -0.002197   \n",
       "3                          0.0              0.0          -0.001099   \n",
       "4                          0.0              0.0          -0.000549   \n",
       "\n",
       "   bike_change_last_hour  departures_over_capacity  arrivals_over_capacity  \\\n",
       "0                    0.0                       0.0                     0.0   \n",
       "1                    0.0                       0.0                     0.0   \n",
       "2                    0.0                       0.0                     0.0   \n",
       "3                    0.0                       0.0                     0.0   \n",
       "4                    0.0                       0.0                     0.0   \n",
       "\n",
       "   bike_change_over_capacity  date_numeric  \n",
       "0                        0.0    1451800800  \n",
       "1                        0.0    1451800800  \n",
       "2                        0.0    1451800800  \n",
       "3                        0.0    1451800800  \n",
       "4                        0.0    1451800800  \n",
       "\n",
       "[5 rows x 39 columns]"
      ]
     },
     "execution_count": 131,
     "metadata": {},
     "output_type": "execute_result"
    }
   ],
   "source": [
    "data_with_time_features_final.head()"
   ]
  },
  {
   "cell_type": "markdown",
   "metadata": {},
   "source": [
    "## Distribution of Departures and Arrivals\n",
    "Before training models, let's look at the distribution of departures and arrivals\n",
    "From the histograms it can be seen that there are very few departures/arrivals at any station more than 10 in an hour\n",
    "This is useful because it can tell us where to cap our predictions. Regression results can be sensitive to outliers\n",
    "so by capping predictions we can improve overall model performance"
   ]
  },
  {
   "cell_type": "code",
   "execution_count": 132,
   "metadata": {},
   "outputs": [
    {
     "data": {
      "image/png": "[encoded data removed]",
      "text/plain": [
       "<matplotlib.figure.Figure at 0x14c433780>"
      ]
     },
     "metadata": {},
     "output_type": "display_data"
    }
   ],
   "source": [
    "plt.hist(data_with_time_features_final['trips_departed'], bins=[0,1,2,3,4,5,6,7,8,9,10,11,12,13,14,15])\n",
    "plt.show()"
   ]
  },
  {
   "cell_type": "code",
   "execution_count": 133,
   "metadata": {},
   "outputs": [
    {
     "data": {
      "image/png": "[encoded data removed]",
      "text/plain": [
       "<matplotlib.figure.Figure at 0x13cd7cac8>"
      ]
     },
     "metadata": {},
     "output_type": "display_data"
    }
   ],
   "source": [
    "plt.hist(data_with_time_features_final['trips_arrived'], bins=[0,1,2,3,4,5,6,7,8,9,10,11,12,13,14,15])\n",
    "plt.show()"
   ]
  },
  {
   "cell_type": "markdown",
   "metadata": {},
   "source": [
    "Let's also look at only one station on a particular day to get a sense of what the distribution is like for that station on that day in terms of departures and arrivals. The station in question is on Wrightwood and Clark right next to where I live in Lincoln Park. This is a typical station which sees regular activity but is regularly full in the evenings when I return from work or is empty in the mornings when I am trying to get to work. Clearly not a good scenario for someone trying to commute to work.\n",
    "\n",
    "From the chart it can be seen that at no point in the day do we have more than 10 departures or arrivals. Second departures peak in the mornings and arrivals peak in the evenings. This makes sense for residential neighborhoods because people are using divvys to commute to and from work like me."
   ]
  },
  {
   "cell_type": "code",
   "execution_count": 134,
   "metadata": {},
   "outputs": [
    {
     "data": {
      "image/png": "[encoded data removed]",
      "text/plain": [
       "<matplotlib.figure.Figure at 0x14c42a828>"
      ]
     },
     "metadata": {},
     "output_type": "display_data"
    },
    {
     "data": {
      "image/png": "[encoded data removed]",
      "text/plain": [
       "<matplotlib.figure.Figure at 0x13c1119e8>"
      ]
     },
     "metadata": {},
     "output_type": "display_data"
    }
   ],
   "source": [
    "df = data_with_time_features_final[data_with_time_features_final['station_id'] == 340]\n",
    "df = df[df['date'] == '2016-06-09']\n",
    "df = df.filter(items = ['hour','trips_departed','trips_arrived'])\n",
    "df = df.set_index('hour')\n",
    "ax = df.plot(title='Station Departure and Arrivals on 06/12/2016', fontsize=12)\n",
    "ax.set_xlabel('hour')\n",
    "ax.set_ylabel('Trips')\n",
    "plt.show()\n",
    "\n",
    "df = data_with_time_features_final[data_with_time_features_final['station_id'] == 340]\n",
    "df = df[df['date'] == '2016-08-12']\n",
    "df = df.filter(items = ['hour','trips_departed','trips_arrived'])\n",
    "df = df.set_index('hour')\n",
    "ax = df.plot(title='Station Departure and Arrivals on 08/12/2016', fontsize=12)\n",
    "ax.set_xlabel('hour')\n",
    "ax.set_ylabel('Trips')\n",
    "plt.show()"
   ]
  },
  {
   "cell_type": "markdown",
   "metadata": {},
   "source": [
    "## Splitting the Data\n",
    "\n",
    "First we train the data on all of 2016 only. The train data itself will then be randomly split into an actual train and validation data with a 70/30% ratio. The validation set is there to help us optimize on parameters and training\n",
    "approaches.\n",
    "\n",
    "The model will then be tested on all of 2017 data. By ensuring a full year of train and test it allows us to get a time series for the entire year so all seasonality is effectively captured in the training."
   ]
  },
  {
   "cell_type": "code",
   "execution_count": 135,
   "metadata": {},
   "outputs": [],
   "source": [
    "def create_train_vectors(train, valid, test):\n",
    "    x_train = train.iloc[:,np.r_[0,2,5:train.shape[1]]]\n",
    "    x_valid = valid.iloc[:,np.r_[0,2,5:valid.shape[1]]]\n",
    "    x_test = test.iloc[:,np.r_[0,2,5:test.shape[1]]]\n",
    "\n",
    "    ##scaling before training\n",
    "    standard_scaler = preprocessing.StandardScaler(with_mean = True, with_std = True)\n",
    "    x_train = standard_scaler.fit_transform(x_train)\n",
    "    x_valid = standard_scaler.transform(x_valid)\n",
    "    x_test = standard_scaler.transform(x_test)\n",
    "    \n",
    "    return x_train, x_valid, x_test\n",
    "\n",
    "##creating train, test, valid vectors\n",
    "train = data_with_time_features_final[data_with_time_features_final['date'] <= '2016-12-31']\n",
    "test = data_with_time_features_final[data_with_time_features_final['date'] > '2017-01-01']\n",
    "\n",
    "train, valid = train_test_split(train, test_size=0.3, random_state = 45)\n",
    "x_train, x_valid, x_test = create_train_vectors(train, valid, test)\n",
    "\n",
    "##departures to predict\n",
    "y_train_depart = train.iloc[:,3]\n",
    "y_valid_depart = valid.iloc[:,3]\n",
    "y_test_depart = test.iloc[:,3]\n",
    "\n",
    "##arrivals to predict\n",
    "y_train_arrive = train.iloc[:,4]\n",
    "y_valid_arrive = valid.iloc[:,4]\n",
    "y_test_arrive = test.iloc[:,4]"
   ]
  },
  {
   "cell_type": "code",
   "execution_count": 136,
   "metadata": {},
   "outputs": [
    {
     "name": "stdout",
     "output_type": "stream",
     "text": [
      "Number of rows in Train Set: 3227851\n",
      "Number of rows in Validation Set :1383365\n",
      "Number of rows in Test Set :5075616\n"
     ]
    }
   ],
   "source": [
    "print('Number of rows in Train Set: ' + str(train.shape[0]))\n",
    "print('Number of rows in Validation Set :' + str(valid.shape[0]))\n",
    "print('Number of rows in Test Set :' + str(test.shape[0]))"
   ]
  },
  {
   "cell_type": "markdown",
   "metadata": {},
   "source": [
    "# Baseline Performance\n",
    "\n",
    "The second thing to note from the arrival and departure distribution is that most (>70%) of all (stations, days, hours) have no departures or arrivals. A simple naive baseline then would be to just predict 0 for every (station,day,hour). \n",
    "\n",
    "However, we can do better than that. Let's simply use the last hour's departure or arrival number as this hour's arrival or departure number or even better the departures or arrivals on this hour yesterday."
   ]
  },
  {
   "cell_type": "code",
   "execution_count": 120,
   "metadata": {},
   "outputs": [
    {
     "name": "stdout",
     "output_type": "stream",
     "text": [
      "The Naive Baseline MSE when predicting all zeros for departures is: \n",
      "4.07\n",
      "The Better Baseline MSE when predicting the last hours departures/arrivals as this hours departure/arrival is: \n",
      "3.81\n",
      "The Final Baseline MSE when predicting departures/arrivals yesterday on this hour as this hours departure/arrival: \n",
      "3.96\n"
     ]
    }
   ],
   "source": [
    "baseline = np.copy(y_valid_depart)\n",
    "baseline[:] = 0\n",
    "baseline[0:10]\n",
    "print('The Naive Baseline MSE when predicting all zeros for departures is: ')\n",
    "print(round(metrics.mean_squared_error(y_valid_depart, baseline),2))\n",
    "baseline = valid['departed_last_hour']\n",
    "print('The Better Baseline MSE when predicting the last hours departures/arrivals as this hours departure/arrival is: ')\n",
    "print(round(metrics.mean_squared_error(y_valid_depart, baseline),2))\n",
    "\n",
    "baseline = valid['departed_last_hour_yesterday']\n",
    "print('The Final Baseline MSE when predicting departures/arrivals yesterday on this hour as this hours departure/arrival: ')\n",
    "print(round(metrics.mean_squared_error(y_valid_depart, baseline),2))"
   ]
  },
  {
   "cell_type": "markdown",
   "metadata": {},
   "source": [
    "## Training a Linear Regression with Regularization\n",
    "\n",
    "We now have a baseline in terms of MSE established. Whatever model we build should do significantly better than the 3.81 MSE we got from our baseline.\n",
    "\n",
    "Next, I train a simple linear regression model with a regularization penalty to help achieve better generalization.\n",
    "There are 3 models trained.\n",
    "\n",
    "1) The first model includes only the weather features along with date features\n",
    "2) The second model only includes the time based features\n",
    "3) The third model includes all (both weather and time based features)\n",
    "\n",
    "By looking at the performance of all 3 models we can see how much value was generated by deriving custom features for\n",
    "this dataset."
   ]
  },
  {
   "cell_type": "code",
   "execution_count": 137,
   "metadata": {},
   "outputs": [
    {
     "name": "stdout",
     "output_type": "stream",
     "text": [
      "The model performance when using ALL FEATURES\n",
      "The performance of the model for departures on validation set in terms of MSE:\n",
      "1.6079\n",
      "The performance of the model for arrivals on validation set in terms of MSE:\n",
      "1.6079\n"
     ]
    }
   ],
   "source": [
    "def ridge_regression(x_train, x_valid, y_train, y_valid, alpha_val):\n",
    "    #RIDGE REGRESSION\n",
    "    ridge = Ridge(alpha=alpha_val, normalize=False)\n",
    "    ridge.fit(x_train, y_train)\n",
    "    y_pred = ridge.predict(x_valid)\n",
    "    return y_pred\n",
    "\n",
    "alpha_regularizer = 0.1\n",
    "print('The model performance when using ALL FEATURES')\n",
    "y_pred_ridge_depart = ridge_regression(x_train, x_valid, y_train_depart, y_valid_depart, alpha_regularizer)\n",
    "print('The performance of the model for departures on validation set in terms of MSE:')\n",
    "print(round(metrics.mean_squared_error(y_valid_depart, y_pred_ridge_depart),4))\n",
    "\n",
    "y_pred_ridge_arrive = ridge_regression(x_train, x_valid, y_train_arrive, y_valid_arrive, alpha_regularizer)\n",
    "print('The performance of the model for arrivals on validation set in terms of MSE:')\n",
    "print(round(metrics.mean_squared_error(y_valid_arrive, y_pred_ridge_arrive),4))"
   ]
  },
  {
   "cell_type": "code",
   "execution_count": null,
   "metadata": {},
   "outputs": [],
   "source": [
    "y_pred_ridge_weather = ridge_regression(x_train,x_valid, y_train_depart, y_valid_depart, a)\n",
    "print('Model Performance with only Weather Features')\n",
    "print(metrics.mean_squared_error(y_valid_depart, y_pred_ridge_weather))\n",
    "\n",
    "print('Model Performance with only Station Time Features')\n",
    "y_pred_ridge_time_features = ridge_regression(train.iloc[:,np.r_[0,1,2,16:28]], valid.iloc[:,np.r_[0,1,2,16:28]], y_train, y_valid, a)\n",
    "print(metrics.mean_squared_error(y_valid_depart, y_pred_ridge_time_features))"
   ]
  },
  {
   "cell_type": "markdown",
   "metadata": {},
   "source": [
    "# Capping Outlier Predictions\n",
    "Since there are very few departures or arrivals greater than 10 we will cap departures and arrivals to 15 to improve performance. This will be bad for the few stations that are tourist hubs where there are a ton of departures/arrivals but for most stations and on most days of the year, very few places will be seeing more than 15 arrivals/departures per hour. Moreoever, from a practical standpoint. It is more important to have our predictions more accurate for the most frequent occuring events. For a station with 15 arrivals or 20 arrivals the difference matters less than a station with 2 vs 4 arrivals. This is because the 2 vs 4 happens a lot while the 15 vs 20 will be once in a year on a tourist heavy station/day etc."
   ]
  },
  {
   "cell_type": "code",
   "execution_count": 138,
   "metadata": {},
   "outputs": [
    {
     "name": "stderr",
     "output_type": "stream",
     "text": [
      "/anaconda3/envs/dlnd/lib/python3.6/site-packages/ipykernel_launcher.py:4: SettingWithCopyWarning: \n",
      "A value is trying to be set on a copy of a slice from a DataFrame\n",
      "\n",
      "See the caveats in the documentation: http://pandas.pydata.org/pandas-docs/stable/indexing.html#indexing-view-versus-copy\n",
      "  after removing the cwd from sys.path.\n",
      "/anaconda3/envs/dlnd/lib/python3.6/site-packages/ipykernel_launcher.py:5: SettingWithCopyWarning: \n",
      "A value is trying to be set on a copy of a slice from a DataFrame\n",
      "\n",
      "See the caveats in the documentation: http://pandas.pydata.org/pandas-docs/stable/indexing.html#indexing-view-versus-copy\n",
      "  \"\"\"\n",
      "/anaconda3/envs/dlnd/lib/python3.6/site-packages/ipykernel_launcher.py:6: SettingWithCopyWarning: \n",
      "A value is trying to be set on a copy of a slice from a DataFrame\n",
      "\n",
      "See the caveats in the documentation: http://pandas.pydata.org/pandas-docs/stable/indexing.html#indexing-view-versus-copy\n",
      "  \n",
      "/anaconda3/envs/dlnd/lib/python3.6/site-packages/ipykernel_launcher.py:9: SettingWithCopyWarning: \n",
      "A value is trying to be set on a copy of a slice from a DataFrame\n",
      "\n",
      "See the caveats in the documentation: http://pandas.pydata.org/pandas-docs/stable/indexing.html#indexing-view-versus-copy\n",
      "  if __name__ == '__main__':\n",
      "/anaconda3/envs/dlnd/lib/python3.6/site-packages/ipykernel_launcher.py:10: SettingWithCopyWarning: \n",
      "A value is trying to be set on a copy of a slice from a DataFrame\n",
      "\n",
      "See the caveats in the documentation: http://pandas.pydata.org/pandas-docs/stable/indexing.html#indexing-view-versus-copy\n",
      "  # Remove the CWD from sys.path while we load stuff.\n",
      "/anaconda3/envs/dlnd/lib/python3.6/site-packages/ipykernel_launcher.py:11: SettingWithCopyWarning: \n",
      "A value is trying to be set on a copy of a slice from a DataFrame\n",
      "\n",
      "See the caveats in the documentation: http://pandas.pydata.org/pandas-docs/stable/indexing.html#indexing-view-versus-copy\n",
      "  # This is added back by InteractiveShellApp.init_path()\n"
     ]
    },
    {
     "data": {
      "image/png": "[encoded data removed]",
      "text/plain": [
       "<matplotlib.figure.Figure at 0x18faf9ba8>"
      ]
     },
     "metadata": {},
     "output_type": "display_data"
    }
   ],
   "source": [
    "cap = 15\n",
    "\n",
    "##upper bound predicted variable\n",
    "y_train_depart[y_train_depart>=cap] = cap\n",
    "y_valid_depart[y_valid_depart>=cap] = cap\n",
    "y_test_depart[y_test_depart>=cap] = cap\n",
    "\n",
    "##upper bound predicted variable\n",
    "y_train_arrive[y_train_arrive>=cap] = cap\n",
    "y_valid_arrive[y_valid_arrive>=cap] = cap\n",
    "y_test_arrive[y_test_arrive>=cap] = cap\n",
    "\n",
    "plt.hist(y_valid_depart, bins=[0,1,2,3,4,5,6,7,8,9,10,11,12,13,14,15])\n",
    "plt.show()"
   ]
  },
  {
   "cell_type": "code",
   "execution_count": 139,
   "metadata": {},
   "outputs": [
    {
     "name": "stdout",
     "output_type": "stream",
     "text": [
      "The mean square error after capping\n",
      "1.0381437662791158\n"
     ]
    }
   ],
   "source": [
    "y_pred_ridge_depart[y_pred_ridge_depart <0] = 0\n",
    "y_pred_ridge_depart[y_pred_ridge_depart >=cap] = cap\n",
    "\n",
    "print('The mean square error after capping improves to: ')\n",
    "print(metrics.mean_squared_error(y_valid_depart, y_pred_ridge_depart))"
   ]
  },
  {
   "cell_type": "markdown",
   "metadata": {},
   "source": [
    "## Training a Random Forest\n",
    "\n",
    "Now instead of linear regression, let's try a random forest for predictions. Random forests are a non parametric method that have the benefit of being less sensitive to outliers as we only split on values. \n",
    "\n",
    "Second, they are also good for predicting on datasets where a simple linear function is not obvious. Recall, the charts above which showed the distribution of arrivals and departures for a station on given days. The curve was not linear and peaked in the mornings and evenings. A simple linear regression may not always be good at identifying such non linear complexities.\n",
    "\n",
    "Finallly, by also bagging many trees into one predictor we also reduce one of 2 sources of error: variance is reduced greatly while not harming the bias. This leads to improved model performance."
   ]
  },
  {
   "cell_type": "code",
   "execution_count": 101,
   "metadata": {},
   "outputs": [],
   "source": [
    "def randomForestModel(trees, min_leaf, x_train, y_train, x_valid):\n",
    "    rf = RandomForestRegressor(n_estimators = 50, random_state = 42, min_samples_leaf=5, verbose = 1)\n",
    "    rf.fit(x_train, y_train)\n",
    "    y_preds_rf = rf.predict(x_valid)\n",
    "    return rf, y_preds_rf"
   ]
  },
  {
   "cell_type": "code",
   "execution_count": 41,
   "metadata": {},
   "outputs": [
    {
     "name": "stdout",
     "output_type": "stream",
     "text": [
      "building tree 1 of 50\n"
     ]
    },
    {
     "name": "stderr",
     "output_type": "stream",
     "text": [
      "[Parallel(n_jobs=1)]: Done   1 out of   1 | elapsed:  1.2min remaining:    0.0s\n"
     ]
    },
    {
     "name": "stdout",
     "output_type": "stream",
     "text": [
      "building tree 2 of 50\n",
      "building tree 3 of 50\n",
      "building tree 4 of 50\n",
      "building tree 5 of 50\n",
      "building tree 6 of 50\n",
      "building tree 7 of 50\n",
      "building tree 8 of 50\n",
      "building tree 9 of 50\n",
      "building tree 10 of 50\n",
      "building tree 11 of 50\n",
      "building tree 12 of 50\n",
      "building tree 13 of 50\n",
      "building tree 14 of 50\n",
      "building tree 15 of 50\n",
      "building tree 16 of 50\n",
      "building tree 17 of 50\n",
      "building tree 18 of 50\n",
      "building tree 19 of 50\n",
      "building tree 20 of 50\n",
      "building tree 21 of 50\n",
      "building tree 22 of 50\n",
      "building tree 23 of 50\n",
      "building tree 24 of 50\n",
      "building tree 25 of 50\n",
      "building tree 26 of 50\n",
      "building tree 27 of 50\n",
      "building tree 28 of 50\n",
      "building tree 29 of 50\n",
      "building tree 30 of 50\n",
      "building tree 31 of 50\n",
      "building tree 32 of 50\n",
      "building tree 33 of 50\n",
      "building tree 34 of 50\n",
      "building tree 35 of 50\n",
      "building tree 36 of 50\n",
      "building tree 37 of 50\n",
      "building tree 38 of 50\n",
      "building tree 39 of 50\n",
      "building tree 40 of 50\n",
      "building tree 41 of 50\n",
      "building tree 42 of 50\n",
      "building tree 43 of 50\n",
      "building tree 44 of 50\n",
      "building tree 45 of 50\n",
      "building tree 46 of 50\n",
      "building tree 47 of 50\n",
      "building tree 48 of 50\n",
      "building tree 49 of 50\n",
      "building tree 50 of 50\n"
     ]
    },
    {
     "name": "stderr",
     "output_type": "stream",
     "text": [
      "[Parallel(n_jobs=1)]: Done  50 out of  50 | elapsed: 86.4min finished\n",
      "[Parallel(n_jobs=1)]: Done   1 out of   1 | elapsed:    0.6s remaining:    0.0s\n",
      "[Parallel(n_jobs=1)]: Done  50 out of  50 | elapsed:   23.3s finished\n"
     ]
    }
   ],
   "source": [
    "rf_arrive_model, rf_preds_arrive = randomForestModel(50, 5, x_train, y_train_arrive, x_valid)\n",
    "#rf_depart_model, rf_preds_depart = randomForestModel(50, 5, x_train, y_train_depart, x_valid)"
   ]
  },
  {
   "cell_type": "markdown",
   "metadata": {},
   "source": [
    "## Evaluation of Random Forest Model\n",
    "We can see that the random forest model greatly reduces the MSE on this dataset both in validation and testing to a much more impressive 0.5. This is almost a 50% change. Unfortunately because training takes > 1 hour it is not feasible to do grid search on the parameter values here."
   ]
  },
  {
   "cell_type": "code",
   "execution_count": 45,
   "metadata": {},
   "outputs": [
    {
     "name": "stdout",
     "output_type": "stream",
     "text": [
      "PERFORMANCE ON VALIDATION SET:\n",
      "THE MEAN SQUARE FOR THE RANDOM FOREST MODEL FOR DEPARTURES:\n",
      "0.5057923323241216\n",
      "THE MEAN SQUARE FOR THE RANDOM FOREST MODEL FOR ARRIVALS:\n",
      "2.614076975447619\n",
      "PERFORMANCE ON TEST SET 2017 Data:\n"
     ]
    },
    {
     "name": "stderr",
     "output_type": "stream",
     "text": [
      "[Parallel(n_jobs=1)]: Done  50 out of  50 | elapsed:   56.5s finished\n",
      "[Parallel(n_jobs=1)]: Done   1 out of   1 | elapsed:    1.1s remaining:    0.0s\n"
     ]
    },
    {
     "name": "stdout",
     "output_type": "stream",
     "text": [
      "THE MEAN SQUARE FOR THE RANDOM FOREST MODEL FOR DEPARTURES:\n",
      "0.4817939755259656\n",
      "THE MEAN SQUARE FOR THE RANDOM FOREST MODEL FOR DEPARTURES:\n",
      "3.153335998784506\n"
     ]
    },
    {
     "name": "stderr",
     "output_type": "stream",
     "text": [
      "[Parallel(n_jobs=1)]: Done  50 out of  50 | elapsed:   57.0s finished\n"
     ]
    }
   ],
   "source": [
    "print('PERFORMANCE ON VALIDATION SET:')\n",
    "print('THE MEAN SQUARE FOR THE RANDOM FOREST MODEL FOR DEPARTURES:')\n",
    "print(metrics.mean_squared_error(y_valid_depart, y_preds_rf))\n",
    "print('THE MEAN SQUARE FOR THE RANDOM FOREST MODEL FOR ARRIVALS:')\n",
    "rf_preds_arrive[rf_preds_arrive <0] = 0\n",
    "rf_preds_arrive[rf_preds_arrive >=cap] = cap\n",
    "print(metrics.mean_squared_error(y_valid_arrive, rf_preds_arrive))\n",
    "\n",
    "print('PERFORMANCE ON TEST SET 2017 Data:')\n",
    "y_preds_rf_test_depart = rf.predict(x_test)\n",
    "y_preds_rf_test_arrive = rf_arrive_model.predict(x_test)\n",
    "\n",
    "y_preds_rf_test_depart[y_preds_rf_test_depart <0] = 0\n",
    "y_preds_rf_test_depart[y_preds_rf_test_depart >=10] = 10\n",
    "y_preds_rf_test_arrive[y_preds_rf_test_arrive <0] = 0\n",
    "y_preds_rf_test_arrive[y_preds_rf_test_arrive >=10] = 10\n",
    "\n",
    "print('THE MEAN SQUARE FOR THE RANDOM FOREST MODEL FOR DEPARTURES:')\n",
    "print(metrics.mean_squared_error(y_test_depart, y_preds_rf_test_depart))\n",
    "print('THE MEAN SQUARE FOR THE RANDOM FOREST MODEL FOR DEPARTURES:')\n",
    "print(metrics.mean_squared_error(y_test_arrive, y_preds_rf_test_arrive))"
   ]
  },
  {
   "cell_type": "code",
   "execution_count": null,
   "metadata": {},
   "outputs": [],
   "source": [
    "test['departure_predictions'] = y_preds_rf_test_depart\n",
    "test['arrival_predictions'] = y_preds_rf_test_arrive\n",
    "test.head()\n",
    "#print(metrics.mean_squared_error(test['trips_departed'] , test['departure_predictions']))\n",
    "test.to_csv('test_predictions_rf.csv',index=False)"
   ]
  },
  {
   "cell_type": "code",
   "execution_count": null,
   "metadata": {},
   "outputs": [],
   "source": []
  },
  {
   "cell_type": "code",
   "execution_count": null,
   "metadata": {},
   "outputs": [],
   "source": []
  },
  {
   "cell_type": "code",
   "execution_count": null,
   "metadata": {},
   "outputs": [],
   "source": []
  },
  {
   "cell_type": "code",
   "execution_count": null,
   "metadata": {},
   "outputs": [],
   "source": []
  }
 ],
 "metadata": {
  "kernelspec": {
   "display_name": "Python 3",
   "language": "python",
   "name": "python3"
  },
  "language_info": {
   "codemirror_mode": {
    "name": "ipython",
    "version": 3
   },
   "file_extension": ".py",
   "mimetype": "text/x-python",
   "name": "python",
   "nbconvert_exporter": "python",
   "pygments_lexer": "ipython3",
   "version": "3.6.3"
  }
 },
 "nbformat": 4,
 "nbformat_minor": 2
}
